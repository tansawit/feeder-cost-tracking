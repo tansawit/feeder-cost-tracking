{
 "cells": [
  {
   "cell_type": "code",
   "execution_count": 15,
   "metadata": {},
   "outputs": [],
   "source": [
    "import json\n",
    "import requests\n",
    "import pandas as pd\n",
    "from collections import defaultdict\n",
    "from web3 import Web3\n",
    "import datetime"
   ]
  },
  {
   "cell_type": "code",
   "execution_count": 16,
   "metadata": {},
   "outputs": [],
   "source": [
    "GRAPHQL_URL = \"http://std-price.d3n.xyz//v1/graphql\"\n",
    "INFURA_URL = \"https://mainnet.infura.io/v3/3daadad760874555bffbdd07a7d3fd7a\"\n",
    "\n",
    "FEEDER_ADDRESS = \"0xecf9ffa7F51e1194f89C25ad8C484f6BFD04E1Ac\"\n",
    "\n",
    "STDREFRENCE_BASIC_CONTRACT_ADDRESS = \"0xfc7A4c74beD0D761B9dC648F8730738D1449333a\"\n",
    "STDREFERECE_BASIC_FILE = open(\"abi/StdReferenceBasic.json\")\n",
    "STDREFERENCE__BASIC_ABI = json.load(STDREFERECE_BASIC_FILE)\n",
    "\n",
    "CURRENT_TIMESTAMP = datetime.datetime.now().timestamp()\n",
    "ONE_DAY = (24*60*70)\n",
    "SEVEN_DAY = CURRENT_TIMESTAMP - (ONE_DAY * 7)\n",
    "THIRTY_DAY = CURRENT_TIMESTAMP - (ONE_DAY * 30)\n",
    "TIME_LIST = [{\"prefix\":\"7_day\",\"count\":7,\"timestamp\":SEVEN_DAY},{\"prefix\":\"30_day\",\"count\":30,\"timestamp\":THIRTY_DAY}]"
   ]
  },
  {
   "cell_type": "code",
   "execution_count": 17,
   "metadata": {},
   "outputs": [],
   "source": [
    "web3 = Web3(Web3.HTTPProvider(INFURA_URL))"
   ]
  },
  {
   "cell_type": "code",
   "execution_count": 18,
   "metadata": {},
   "outputs": [],
   "source": [
    "def get_timestamp(days):\n",
    "    current_timestamp = datetime.datetime.now().timestamp()\n",
    "    min_timestamp = current_timestamp - (days * 24 * 60 * 60)\n",
    "    timestamp = datetime.datetime.fromtimestamp(min_timestamp)\n",
    "    time = timestamp.strftime('%Y-%m-%dT%H:%M:%S.000000')\n",
    "    return time"
   ]
  },
  {
   "cell_type": "markdown",
   "metadata": {},
   "source": [
    "## Feeder Account Balance"
   ]
  },
  {
   "cell_type": "code",
   "execution_count": 5,
   "metadata": {},
   "outputs": [
    {
     "name": "stdout",
     "output_type": "stream",
     "text": [
      "Current Feeder Balance: 57.79 ETH\n"
     ]
    }
   ],
   "source": [
    "feeder_balance = round(web3.eth.get_balance(FEEDER_ADDRESS)/1e18, 2)\n",
    "print(f\"Current Feeder Balance: {feeder_balance} ETH\")"
   ]
  },
  {
   "cell_type": "markdown",
   "metadata": {},
   "source": [
    "## Symbols Supported"
   ]
  },
  {
   "cell_type": "code",
   "execution_count": 108,
   "metadata": {},
   "outputs": [
    {
     "data": {
      "text/html": [
       "<div>\n",
       "<style scoped>\n",
       "    .dataframe tbody tr th:only-of-type {\n",
       "        vertical-align: middle;\n",
       "    }\n",
       "\n",
       "    .dataframe tbody tr th {\n",
       "        vertical-align: top;\n",
       "    }\n",
       "\n",
       "    .dataframe thead th {\n",
       "        text-align: right;\n",
       "    }\n",
       "</style>\n",
       "<table border=\"1\" class=\"dataframe\">\n",
       "  <thead>\n",
       "    <tr style=\"text-align: right;\">\n",
       "      <th></th>\n",
       "      <th>symbol</th>\n",
       "      <th>interval</th>\n",
       "      <th>max_changed</th>\n",
       "    </tr>\n",
       "  </thead>\n",
       "  <tbody>\n",
       "    <tr>\n",
       "      <th>0</th>\n",
       "      <td>BUSD</td>\n",
       "      <td>3400</td>\n",
       "      <td>100</td>\n",
       "    </tr>\n",
       "    <tr>\n",
       "      <th>1</th>\n",
       "      <td>WBTC</td>\n",
       "      <td>3400</td>\n",
       "      <td>100</td>\n",
       "    </tr>\n",
       "    <tr>\n",
       "      <th>2</th>\n",
       "      <td>STRK</td>\n",
       "      <td>3400</td>\n",
       "      <td>100</td>\n",
       "    </tr>\n",
       "    <tr>\n",
       "      <th>3</th>\n",
       "      <td>DAI</td>\n",
       "      <td>3400</td>\n",
       "      <td>0.5</td>\n",
       "    </tr>\n",
       "    <tr>\n",
       "      <th>4</th>\n",
       "      <td>USDC</td>\n",
       "      <td>3400</td>\n",
       "      <td>0.5</td>\n",
       "    </tr>\n",
       "  </tbody>\n",
       "</table>\n",
       "</div>"
      ],
      "text/plain": [
       "  symbol  interval max_changed\n",
       "0   BUSD      3400         100\n",
       "1   WBTC      3400         100\n",
       "2   STRK      3400         100\n",
       "3    DAI      3400         0.5\n",
       "4   USDC      3400         0.5"
      ]
     },
     "execution_count": 108,
     "metadata": {},
     "output_type": "execute_result"
    }
   ],
   "source": [
    "symbol_detail_payload = \"{\\\"query\\\":\\\"query MyQuery {\\\\n  mainnet_target_eth_mainnet_symbol_detail{\\\\n    symbol\\\\n    interval\\\\n    max_changed\\\\n  }\\\\n}\\\\n\\\",\\\"operationName\\\":\\\"MyQuery\\\"}\"\n",
    "symbol_detail_response = requests.request(\"POST\",GRAPHQL_URL,data=symbol_detail_payload).json()\n",
    "symbol_detail = symbol_detail_response[\"data\"][\"mainnet_target_eth_mainnet_symbol_detail\"]\n",
    "# list of supported symbols\n",
    "symbols_supported = [details[\"symbol\"] for details in symbol_detail] \n",
    "# dataframe of symbol details\n",
    "symbol_details_df = pd.DataFrame.from_dict(symbol_detail)\n",
    "symbol_details_df.head()"
   ]
  },
  {
   "cell_type": "markdown",
   "metadata": {},
   "source": [
    "## 30-day/7-day price update count"
   ]
  },
  {
   "cell_type": "code",
   "execution_count": 109,
   "metadata": {},
   "outputs": [
    {
     "data": {
      "text/html": [
       "<div>\n",
       "<style scoped>\n",
       "    .dataframe tbody tr th:only-of-type {\n",
       "        vertical-align: middle;\n",
       "    }\n",
       "\n",
       "    .dataframe tbody tr th {\n",
       "        vertical-align: top;\n",
       "    }\n",
       "\n",
       "    .dataframe thead th {\n",
       "        text-align: right;\n",
       "    }\n",
       "</style>\n",
       "<table border=\"1\" class=\"dataframe\">\n",
       "  <thead>\n",
       "    <tr style=\"text-align: right;\">\n",
       "      <th></th>\n",
       "      <th>symbol</th>\n",
       "      <th>expected_update_count_per_day</th>\n",
       "      <th>7_day_update_count</th>\n",
       "      <th>7_day_update_count_per_day</th>\n",
       "      <th>30_day_update_count</th>\n",
       "      <th>30_day_update_count_per_day</th>\n",
       "    </tr>\n",
       "  </thead>\n",
       "  <tbody>\n",
       "    <tr>\n",
       "      <th>0</th>\n",
       "      <td>BUSD</td>\n",
       "      <td>29.647059</td>\n",
       "      <td>197</td>\n",
       "      <td>28.142857</td>\n",
       "      <td>776</td>\n",
       "      <td>25.866667</td>\n",
       "    </tr>\n",
       "    <tr>\n",
       "      <th>1</th>\n",
       "      <td>WBTC</td>\n",
       "      <td>29.647059</td>\n",
       "      <td>196</td>\n",
       "      <td>28.000000</td>\n",
       "      <td>805</td>\n",
       "      <td>26.833333</td>\n",
       "    </tr>\n",
       "    <tr>\n",
       "      <th>2</th>\n",
       "      <td>STRK</td>\n",
       "      <td>29.647059</td>\n",
       "      <td>197</td>\n",
       "      <td>28.142857</td>\n",
       "      <td>699</td>\n",
       "      <td>23.300000</td>\n",
       "    </tr>\n",
       "    <tr>\n",
       "      <th>3</th>\n",
       "      <td>DAI</td>\n",
       "      <td>29.647059</td>\n",
       "      <td>196</td>\n",
       "      <td>28.000000</td>\n",
       "      <td>779</td>\n",
       "      <td>25.966667</td>\n",
       "    </tr>\n",
       "    <tr>\n",
       "      <th>4</th>\n",
       "      <td>USDC</td>\n",
       "      <td>29.647059</td>\n",
       "      <td>197</td>\n",
       "      <td>28.142857</td>\n",
       "      <td>796</td>\n",
       "      <td>26.533333</td>\n",
       "    </tr>\n",
       "  </tbody>\n",
       "</table>\n",
       "</div>"
      ],
      "text/plain": [
       "  symbol  expected_update_count_per_day  7_day_update_count  \\\n",
       "0   BUSD                      29.647059                 197   \n",
       "1   WBTC                      29.647059                 196   \n",
       "2   STRK                      29.647059                 197   \n",
       "3    DAI                      29.647059                 196   \n",
       "4   USDC                      29.647059                 197   \n",
       "\n",
       "   7_day_update_count_per_day  30_day_update_count  \\\n",
       "0                   28.142857                  776   \n",
       "1                   28.000000                  805   \n",
       "2                   28.142857                  699   \n",
       "3                   28.000000                  779   \n",
       "4                   28.142857                  796   \n",
       "\n",
       "   30_day_update_count_per_day  \n",
       "0                    25.866667  \n",
       "1                    26.833333  \n",
       "2                    23.300000  \n",
       "3                    25.966667  \n",
       "4                    26.533333  "
      ]
     },
     "execution_count": 109,
     "metadata": {},
     "output_type": "execute_result"
    }
   ],
   "source": [
    "update_count_payload = '''{\n",
    "    \"query\":\\\"query MyQuery {\n",
    "        mainnet_target_eth_mainnet_relay_data_aggregate(where: {_and: {symbol: {_eq: \\\\\\\"%s\\\\\\\"}, resolved_time: {_gte: %d}}}){\n",
    "            aggregate{\n",
    "                count\n",
    "            }\n",
    "        }\n",
    "    }\",\n",
    "    \"operationName\":\"MyQuery\"\n",
    "}\n",
    "'''\n",
    "update_list = list()\n",
    "for symbol in symbols_supported:\n",
    "    dc = defaultdict(str)\n",
    "    for TIME in TIME_LIST:\n",
    "        prefix = TIME[\"prefix\"]\n",
    "        timestamp = TIME[\"timestamp\"]\n",
    "        count = TIME[\"count\"]\n",
    "        update_count_response = requests.request(\"POST\",GRAPHQL_URL,data=update_count_payload%(symbol,timestamp)).json()\n",
    "        update_count = update_count_response[\"data\"][\"mainnet_target_eth_mainnet_relay_data_aggregate\"][\"aggregate\"][\"count\"]\n",
    "        dc[\"symbol\"] = symbol\n",
    "        index = symbol_details_df.index[symbol_details_df[\"symbol\"]==symbol].tolist()[0]\n",
    "        dc[\"expected_update_count_per_day\"] = ONE_DAY / symbol_details_df[\"interval\"][index]\n",
    "        dc[f\"{prefix}_update_count\"] = update_count\n",
    "        dc[f\"{prefix}_update_count_per_day\"] = update_count / count\n",
    "    update_list.append(dc)\n",
    "update_count_df = pd.DataFrame.from_dict(update_list)\n",
    "update_count_df.head()"
   ]
  },
  {
   "cell_type": "markdown",
   "metadata": {},
   "source": [
    "## 30-day/7-day daily update count"
   ]
  },
  {
   "cell_type": "code",
   "execution_count": 115,
   "metadata": {},
   "outputs": [
    {
     "data": {
      "text/html": [
       "<div>\n",
       "<style scoped>\n",
       "    .dataframe tbody tr th:only-of-type {\n",
       "        vertical-align: middle;\n",
       "    }\n",
       "\n",
       "    .dataframe tbody tr th {\n",
       "        vertical-align: top;\n",
       "    }\n",
       "\n",
       "    .dataframe thead th {\n",
       "        text-align: right;\n",
       "    }\n",
       "</style>\n",
       "<table border=\"1\" class=\"dataframe\">\n",
       "  <thead>\n",
       "    <tr style=\"text-align: right;\">\n",
       "      <th></th>\n",
       "      <th>interval</th>\n",
       "      <th>total_tx_count</th>\n",
       "      <th>avg_tx_per_day</th>\n",
       "    </tr>\n",
       "  </thead>\n",
       "  <tbody>\n",
       "    <tr>\n",
       "      <th>0</th>\n",
       "      <td>7_day</td>\n",
       "      <td>1540</td>\n",
       "      <td>220.0</td>\n",
       "    </tr>\n",
       "    <tr>\n",
       "      <th>1</th>\n",
       "      <td>30_day</td>\n",
       "      <td>4602</td>\n",
       "      <td>153.4</td>\n",
       "    </tr>\n",
       "  </tbody>\n",
       "</table>\n",
       "</div>"
      ],
      "text/plain": [
       "  interval  total_tx_count  avg_tx_per_day\n",
       "0    7_day            1540           220.0\n",
       "1   30_day            4602           153.4"
      ]
     },
     "execution_count": 115,
     "metadata": {},
     "output_type": "execute_result"
    }
   ],
   "source": [
    "update_count_payload = '''\n",
    "{\n",
    "    \"query\":\"query MyQuery {\n",
    "                mainnet_target_eth_mainnet_relay_tx_aggregate(where:{created_at:{_gte:\\\\\\\"%s\\\\\\\"}}){\n",
    "                    aggregate{\n",
    "                        count\n",
    "                    }\n",
    "                }\n",
    "            }\",\n",
    "            \"operationName\":\"MyQuery\"\n",
    "}'''\n",
    "tx_count_list = list()\n",
    "for TIME in TIME_LIST:\n",
    "    dc = defaultdict(str)\n",
    "    prefix = TIME[\"prefix\"]\n",
    "    timestamp = TIME[\"timestamp\"]\n",
    "    count = TIME[\"count\"]\n",
    "    update_count_response = requests.request(\"POST\",GRAPHQL_URL,data=update_count_payload%(get_timestamp(count))).json()\n",
    "    update_count = update_count_response[\"data\"][\"mainnet_target_eth_mainnet_relay_tx_aggregate\"][\"aggregate\"][\"count\"]\n",
    "    dc[\"interval\"] = prefix\n",
    "    dc['total_tx_count'] = update_count\n",
    "    dc['avg_tx_per_day'] = update_count/count\n",
    "    tx_count_list.append(dc)\n",
    "\n",
    "tx_stats_df = pd.DataFrame.from_dict(tx_count_list)\n",
    "tx_stats_df.head()"
   ]
  },
  {
   "cell_type": "code",
   "execution_count": 22,
   "metadata": {},
   "outputs": [
    {
     "name": "stdout",
     "output_type": "stream",
     "text": [
      "(<Function relay(string[],uint64[],uint64[],uint64[])>, {'_symbols': ['BUSD', 'WBTC'], '_rates': [1000559500, 60621000000000], '_resolveTimes': [1618055371, 1618055284], '_requestIds': [3433860, 3433808]})\n",
      "AttributeDict({'blockHash': HexBytes('0xf063327efb8bf65211496d9648bbc0cb1cfd7fd17b6867be709bf9466c18603d'), 'blockNumber': 12211982, 'from': '0xecf9ffa7F51e1194f89C25ad8C484f6BFD04E1Ac', 'gas': 200000, 'gasPrice': 126000000000, 'hash': HexBytes('0xb115e9b921cd6498f7aba7f6c2acedd16bd702206d56e0238d55320ef451a19b'), 'input': '0x418d78d40000000000000000000000000000000000000000000000000000000000000080000000000000000000000000000000000000000000000000000000000000016000000000000000000000000000000000000000000000000000000000000001c0000000000000000000000000000000000000000000000000000000000000022000000000000000000000000000000000000000000000000000000000000000020000000000000000000000000000000000000000000000000000000000000040000000000000000000000000000000000000000000000000000000000000008000000000000000000000000000000000000000000000000000000000000000044255534400000000000000000000000000000000000000000000000000000000000000000000000000000000000000000000000000000000000000000000000457425443000000000000000000000000000000000000000000000000000000000000000000000000000000000000000000000000000000000000000000000002000000000000000000000000000000000000000000000000000000003ba3538c000000000000000000000000000000000000000000000000000037226d2bc200000000000000000000000000000000000000000000000000000000000000000200000000000000000000000000000000000000000000000000000000607190cb0000000000000000000000000000000000000000000000000000000060719074000000000000000000000000000000000000000000000000000000000000000200000000000000000000000000000000000000000000000000000000003465840000000000000000000000000000000000000000000000000000000000346550', 'nonce': 2507, 'r': HexBytes('0x63c492a23330b389cff74d83e438fabc9e9740d2920a8b0edc3e0087c409c145'), 's': HexBytes('0x7e0fa23405a0b302f7cd5f0be0a04eb647e4795452eae9cbdd0e13466b5d62b6'), 'to': '0xfc7A4c74beD0D761B9dC648F8730738D1449333a', 'transactionIndex': 26, 'type': '0x0', 'v': 38, 'value': 0})\n",
      "(<Function relay(string[],uint64[],uint64[],uint64[])>, {'_symbols': ['BUSD', 'WBTC'], '_rates': [1000559500, 60621000000000], '_resolveTimes': [1618055371, 1618055284], '_requestIds': [3433860, 3433808]})\n",
      "AttributeDict({'blockHash': HexBytes('0xf063327efb8bf65211496d9648bbc0cb1cfd7fd17b6867be709bf9466c18603d'), 'blockNumber': 12211982, 'from': '0xecf9ffa7F51e1194f89C25ad8C484f6BFD04E1Ac', 'gas': 200000, 'gasPrice': 126000000000, 'hash': HexBytes('0xb115e9b921cd6498f7aba7f6c2acedd16bd702206d56e0238d55320ef451a19b'), 'input': '0x418d78d40000000000000000000000000000000000000000000000000000000000000080000000000000000000000000000000000000000000000000000000000000016000000000000000000000000000000000000000000000000000000000000001c0000000000000000000000000000000000000000000000000000000000000022000000000000000000000000000000000000000000000000000000000000000020000000000000000000000000000000000000000000000000000000000000040000000000000000000000000000000000000000000000000000000000000008000000000000000000000000000000000000000000000000000000000000000044255534400000000000000000000000000000000000000000000000000000000000000000000000000000000000000000000000000000000000000000000000457425443000000000000000000000000000000000000000000000000000000000000000000000000000000000000000000000000000000000000000000000002000000000000000000000000000000000000000000000000000000003ba3538c000000000000000000000000000000000000000000000000000037226d2bc200000000000000000000000000000000000000000000000000000000000000000200000000000000000000000000000000000000000000000000000000607190cb0000000000000000000000000000000000000000000000000000000060719074000000000000000000000000000000000000000000000000000000000000000200000000000000000000000000000000000000000000000000000000003465840000000000000000000000000000000000000000000000000000000000346550', 'nonce': 2507, 'r': HexBytes('0x63c492a23330b389cff74d83e438fabc9e9740d2920a8b0edc3e0087c409c145'), 's': HexBytes('0x7e0fa23405a0b302f7cd5f0be0a04eb647e4795452eae9cbdd0e13466b5d62b6'), 'to': '0xfc7A4c74beD0D761B9dC648F8730738D1449333a', 'transactionIndex': 26, 'type': '0x0', 'v': 38, 'value': 0})\n"
     ]
    }
   ],
   "source": [
    "tx_list_payload = '''\n",
    "{\n",
    "    \"query\":\"query MyQuery {\n",
    "                mainnet_target_eth_mainnet_relay_tx(where:{created_at:{_gte:\\\\\\\"%s\\\\\\\"}}){\n",
    "                    tx_hash\n",
    "                }\n",
    "            }\",\n",
    "            \"operationName\":\"MyQuery\"\n",
    "}'''\n",
    "def get_tx_info(tx_details):\n",
    "    stdreferece_basic_contract = web3.eth.contract(address=STDREFRENCE_BASIC_CONTRACT_ADDRESS,abi=STDREFERENCE__BASIC_ABI)\n",
    "    decoded_tx_input = stdreferece_basic_contract.decode_function_input(tx_details.input)\n",
    "    return decoded_tx_input\n",
    "tx_list = list()\n",
    "for TIME in TIME_LIST:\n",
    "    time_dc = defaultdict(str)\n",
    "    prefix = TIME[\"prefix\"]\n",
    "    timestamp = TIME[\"timestamp\"]\n",
    "    count = TIME[\"count\"]\n",
    "    tx_list_response = requests.request(\"POST\",GRAPHQL_URL,data=tx_list_payload%(get_timestamp(count))).json()\n",
    "    tx_list = update_count_response['data']['mainnet_target_eth_mainnet_relay_tx']\n",
    "    for tx in tx_list[:1]:\n",
    "        tx_dc = defaultdict(str)\n",
    "        tx_details = web3.eth.get_transaction(tx[\"tx_hash\"])\n",
    "        tx_info = get_tx_info(tx_details)\n",
    "        \n",
    "        print(tx_info)\n",
    "        print(tx_details)\n",
    "        "
   ]
  },
  {
   "cell_type": "code",
   "execution_count": null,
   "metadata": {},
   "outputs": [],
   "source": []
  }
 ],
 "metadata": {
  "kernelspec": {
   "display_name": "Python 3",
   "language": "python",
   "name": "python3"
  },
  "language_info": {
   "codemirror_mode": {
    "name": "ipython",
    "version": 3
   },
   "file_extension": ".py",
   "mimetype": "text/x-python",
   "name": "python",
   "nbconvert_exporter": "python",
   "pygments_lexer": "ipython3",
   "version": "3.9.2"
  }
 },
 "nbformat": 4,
 "nbformat_minor": 4
}
